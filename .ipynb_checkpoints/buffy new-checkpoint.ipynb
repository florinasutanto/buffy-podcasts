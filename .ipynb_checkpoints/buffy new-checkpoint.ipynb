{
 "cells": [
  {
   "cell_type": "markdown",
   "id": "2bc53f40",
   "metadata": {},
   "source": [
    "# Buffy the Vampire Slayer Spotify Podcasts"
   ]
  },
  {
   "cell_type": "markdown",
   "id": "02a9c2a3",
   "metadata": {},
   "source": [
    "### connect to the Spotify API via spotipy and save the data as .json files"
   ]
  },
  {
   "cell_type": "code",
   "execution_count": 96,
   "id": "b4c210e3",
   "metadata": {},
   "outputs": [],
   "source": [
    "import requests\n",
    "\n",
    "from dotenv import load_dotenv\n",
    "import os\n",
    "load_dotenv()\n",
    "\n",
    "client_id = os.getenv(\"client_id\")\n",
    "client_secret = os.getenv(\"client_secret\")"
   ]
  },
  {
   "cell_type": "code",
   "execution_count": null,
   "id": "4dcae42b",
   "metadata": {},
   "outputs": [
    {
     "name": "stdout",
     "output_type": "stream",
     "text": [
      "Data saved to spotify_episodes.json successfully.\n",
      "Data saved to spotify_shows.json successfully.\n"
     ]
    }
   ],
   "source": [
    "import spotipy\n",
    "import json\n",
    "from spotipy.oauth2 import SpotifyClientCredentials\n",
    "\n",
    "# setting spotify API credentials\n",
    "client_id = {client_id}\n",
    "client_secret = {client_secret}\n",
    "\n",
    "# authenticate and authorize application\n",
    "auth_manager = SpotifyClientCredentials(client_id=client_id, client_secret=client_secret)\n",
    "sp = spotipy.Spotify(auth_manager=auth_manager)\n",
    "\n",
    "# define base url\n",
    "episodes_url = 'https://api.spotify.com/v1/search?q=buffy+the+vampire+slayer&type=episode&market=US&limit=50&offset='\n",
    "shows_url = 'https://api.spotify.com/v1/search?q=buffy+the+vampire+slayer&type=show&market=US&limit=50&offset='\n",
    "\n",
    "# list to store all data\n",
    "episodes_data = []\n",
    "shows_data = []\n",
    "\n",
    "# iterate through all the offsets (950)\n",
    "# episodes\n",
    "for offset in range(0, 951):\n",
    "    url = episodes_url + str(offset)\n",
    "    response = sp._get(url)\n",
    "    episodes_data.append(response)\n",
    "    \n",
    "# shows\n",
    "for offset in range(0, 951):\n",
    "    url = shows_url + str(offset)\n",
    "    response = sp._get(url)\n",
    "    shows_data.append(response)\n",
    "\n",
    "# specify file path for json file\n",
    "episodes_path = 'spotify_episodes.json'\n",
    "shows_path = 'spotify_shows.json'\n",
    "\n",
    "# open the file and write the data to the file\n",
    "with open(episodes_path, 'w') as json_file:\n",
    "    json.dump(episodes_data, json_file)\n",
    "\n",
    "with open(shows_path, 'w') as json_file:\n",
    "    json.dump(shows_data, json_file)\n",
    "\n",
    "# confirmation message\n",
    "print(f\"Data saved to {episodes_path} successfully.\")\n",
    "print(f\"Data saved to {shows_path} successfully.\")"
   ]
  },
  {
   "cell_type": "markdown",
   "id": "8dc18749",
   "metadata": {},
   "source": [
    "### load the files (spotify_episodes and spotify_shows)"
   ]
  },
  {
   "cell_type": "code",
   "execution_count": 97,
   "id": "4333c33e",
   "metadata": {},
   "outputs": [],
   "source": [
    "import datetime\n",
    "import pandas as pd\n",
    "import csv\n",
    "\n",
    "with open('spotify_episodes.json', 'r') as file:\n",
    "    spotify_episodes = json.load(file)\n",
    "    \n",
    "with open('spotify_shows.json', 'r') as file:\n",
    "    spotify_shows = json.load(file)    "
   ]
  },
  {
   "cell_type": "markdown",
   "id": "ec512e1c",
   "metadata": {},
   "source": [
    "### explore the data"
   ]
  },
  {
   "cell_type": "code",
   "execution_count": 89,
   "id": "c4568035",
   "metadata": {},
   "outputs": [
    {
     "name": "stdout",
     "output_type": "stream",
     "text": [
      "951\n",
      "951\n",
      "---\n",
      "50\n",
      "---\n",
      "1\n",
      "{'audio_preview_url': 'https://podz-content.spotifycdn.com/audio/clips/1Uw7sB7s3q1T6pcAdxAm65/clip_139362_196461.mp3', 'description': 'This week on the very first episode of Buffering the Vampire Slayer, Jenny and Kristin watch and discuss Buffy the Vampire Slayer Season 1 Episode 1: Welcome to the Hellmouth. If you like the show, feel free to leave us a review on iTunes - that would be so rad of you! Give us a shout on twitter: Jenny Owen Youngs (@jennyowenyoungs). Kristin Russo (@kristinnoeline). Buffering the Vampire Slayer (@bufferingcast). You can also join us on facebook.com/bufferingcast. Logo: Kristine Thune, kristinethune.com Special thanks to Mike Tuccillo, mix consultant on our theme music.', 'duration_ms': 2773916, 'explicit': True, 'external_urls': {'spotify': 'https://open.spotify.com/episode/4V5hScweWn1JkMXu6Xro8z'}, 'href': 'https://api.spotify.com/v1/episodes/4V5hScweWn1JkMXu6Xro8z', 'html_description': '<p>This week on the very first episode of Buffering the Vampire Slayer, Jenny and Kristin watch and discuss Buffy the Vampire Slayer Season 1 Episode 1: Welcome to the Hellmouth. If you like the show, feel free to leave us a review on iTunes - that would be so rad of you! <br /><br />Give us a shout on twitter: <br /><br />Jenny Owen Youngs (&#64;jennyowenyoungs). <br /><br />Kristin Russo (&#64;kristinnoeline). <br /><br />Buffering the Vampire Slayer (&#64;bufferingcast). <br /><br />You can also join us on facebook.com/bufferingcast. <br /><br />Logo: Kristine Thune, kristinethune.com <br /><br />Special thanks to Mike Tuccillo, mix consultant on our theme music.</p>', 'id': '4V5hScweWn1JkMXu6Xro8z', 'images': [{'height': 640, 'url': 'https://i.scdn.co/image/ab6765630000ba8a65b038efd4b9ed5243f52eca', 'width': 640}, {'height': 300, 'url': 'https://i.scdn.co/image/ab67656300005f1f65b038efd4b9ed5243f52eca', 'width': 300}, {'height': 64, 'url': 'https://i.scdn.co/image/ab6765630000f68d65b038efd4b9ed5243f52eca', 'width': 64}], 'is_externally_hosted': False, 'is_playable': True, 'language': 'en', 'languages': ['en'], 'name': '1.01: Welcome to the Hellmouth', 'release_date': '2016-09-14', 'release_date_precision': 'day', 'type': 'episode', 'uri': 'spotify:episode:4V5hScweWn1JkMXu6Xro8z'}\n",
      "---\n"
     ]
    }
   ],
   "source": [
    "print(len(spotify_episodes))\n",
    "print(len(spotify_shows))\n",
    "print(\"---\")\n",
    "print(len(spotify_episodes[0]['episodes']['items']))\n",
    "print(\"---\")\n",
    "print(len(spotify_episodes[950]))\n",
    "print(spotify_episodes[0]['episodes']['items'][0])\n",
    "print(\"---\")"
   ]
  },
  {
   "cell_type": "markdown",
   "id": "82f07764",
   "metadata": {},
   "source": [
    "### check the episodes"
   ]
  },
  {
   "cell_type": "code",
   "execution_count": 43,
   "id": "7e20c33d",
   "metadata": {},
   "outputs": [
    {
     "name": "stdout",
     "output_type": "stream",
     "text": [
      "{'0.09: Season 2 Wrap-Up', 'Ep 11: Escuela Dura', 'Buffy S2 at 25: Passion', 'Bonus Episode - Buffy The Vampire Slayer Movie w/ Johny Walsh', 'Killed by Death | 30', '080 - Buffy The Vampire Slayer', 'Acting a Lil Different', 'Lie To Me | 19', 'Season 5 Wrap-up', 'The Harvest | 2', 'Nightmares | 10', 'Wondery Presents: The Rewatcher: Buffy The Vampire Slayer', 'Possessive Boyfriends', 'Wondery Presents: The ReWatcher: Buffy The Vampire Slayer', 'Prophecy Girl | 12', 'The Dark Age | 20', 'School Hard (S2.03)', 'Season 3 Wrap-up', 'Buffy S1 at 25: ”Angel”', 'Ep 93: Bringing Down the House', 'Bad Eggs | 24', 'On Buffy: Where Do We Go From Here?', 'Enemies (S3.17)', 'Mommy Issues', 'Never Kill a Boy on the First Date | 5', 'Ep 13: Ghost Willow Saves Halloween', 'Innocence | 26', '0.05: Happy 20th Anniversary, Buffy!', 'Still Pretty', 'Becoming (Part 2) | 34', 'S5E18: “Intervention”', 'Am I Mean!?', 'Phases | 27', 'Episode 375: Special Episode: Introducing The Rewatcher: Buffy the Vampire Slayer', '1.09: The Puppet Show', 'Bonus: Sunnymail', 'Buffy S7 Ep9: Never Leave Me', 'Mysterious Presents', '1.02: The Harvest', 'Episode 99: Triangle', 'Witch | 3', 'Shadowy Figures Named Luke', 'Some Assembly Required | 14', 'Angel | 7', 'Ep 10: Buffy Deals and Cordelia Dishes', '3.15: Consequences', 'Vengeance & Diggers', 'Angel Season 2: Episode Zero', 'She Invites Him In', 'Episode 087 - Listening To Fear', 'School Hard | 15', 'Reptile Boy | 17', '1.03: Witch', 'Smashed (S6.09)', 'S5E20: “Spiral”', 'Faith, Hope & Trick | 37', 'Introducing The ReWatcher: Buffy The Vampire Slayer', 'Intimidating Legs', 'Go Fish | 32', 'Guardians of the Galaxy Volume 3', 'S4E10: ”Hush”', 'Season 2 Wrap-up', 'Episode 440 - Buffy the Vampire Slayer', 'Miss Independent', 'Inca Mummy Girl | 16', 'Welcome to the Hellmouth + The Harvest (S1.01-02)', 'An Unexpected Plot Twist', 'Buffy the Vampire Slayer (1992) with Jasmine Johnson', 'Episode 005 - Never Kill a Boy on the First Date', 'Fighting Around the Christmas Trees', 'Dead Man’s Party | 36', 'Introducing: The Rewatcher: Buffy the Vampire Slayer', 'The ReWatcher - Buffy The Vampire Slayer - Wondery Bonus Episode', \"What's He Doing Here?\", 'Cliffhangers, Cringe & Cocktails', 'Season 5 Wrap-Up', 'Hot for Teacher', 'He Can Change', \"Ep 63: Are You There Buffy? It's Me, Dawn\", 'Buffy the Vampire Slayer Review', 'The ReWatcher: Buffy The Vampire Slayer', 'Buffy the Vampire Slayer (1992) – Episode 91', 'Episode 241- Buffy the Vampire Slayer (1992)', 'I Only Have Eyes for You | 31', 'The Pack | 6', 'Angel Season 2: Are You Now or Have You Ever Been', 'Unexpectedly-Naked Visitors', '1.10: Nightmares', 'Once More With Feeling (S6.07)', 'S4E01 The Freshman', \"What's My Line? (Part 2) | 22\", 'Bewitched, Bothered and Bewildered | 28', 'Buffy s7 ep4 \"Help\"', 'Debbies', 'Meet Your Buffy Gays, Zach and Kyle!', 'The Real Me (S5.02)', 'BONUS: 2020 Patreon Review: Buffy the Vampire Slayer (1992) & Buffy Season 1', 'Am I Not the One?', 'Beauty and the Beasts | 38', 'Episode 085 - Fool For Love', '1.01: Welcome to the Hellmouth', 'Buffy S2 at 25: Becoming Part 2', 'Surprise | 25', 'When She Was Bad | 13', 'Angel S2 Ep1: Judgement', 'FLAVOR TEXT: Buffy the Vampire Slayer', 'Wondery Presents The ReWatcher Buffy The Vampire Slayer', 'VAMPIRES: Pt 16 - Buffy The Vampire Slayer & Angel (1992 - 2004)', 'Anne | 35', 'Charisma Carpenter: An Instagram Live Interview', 'Season 1 Wrap-up', 'Passion | 29', 'Out of Mind, Out of Sight | 11', 'Teacher’s Pet | 4', 'Episode 2 – Buffy the Vampire Slayer', \"Buffy The Vampire Slayer (1992) - I'll Suck Your Blood\", 'S3E03 Faith, Hope, and Trick', 'The Gift (S5.22)', 'Buffering the Vampire Slayer | 8.01 The Long Way Home', \"What's My Line? (Part 1) | 21\", '07: Buffy the Vampire Slayer (1992)', \"Buffy the Vampire Slayer: 'Once More, With Feeling' (2001) feat. Josh Tonks\", 'Bonus! Buffy the Vampire Slayer (1992) Movie Review', 'Covert Kitchen Convos', 'Introducing - The ReWatcher: Buffy the Vampire Slayer', 'Buffy the Vampire Slayer: 25th Anniversary', 'Ep 3: The Mantis, The Witch, and the Wardrobe', 'HERE BE WITCHES 08 • Buffy the Vampire Slayer (1997-2003) with Becky Darke', 'Halloween | 18', 'Ep 23: The Real Housewives of Sunnydale', 'Season 6 Wrap-up', 'Welcome to the Hellmouth | 1', 'Buffy the Vampire Slayer, M. Night Shyamalan, Final Fantasy X', 'Ample Amounts of String', 'Buffy S2 at 25: Becoming Part 1', 'Ted | 23', 'The Puppet Show | 9', 'Poor Little Popular Girl', 'Becoming (Part 1) | 33', 'Season 4 Wrap-up', 'I Robot… You, Jane | 8'}\n"
     ]
    }
   ],
   "source": [
    "episodes = set()\n",
    "\n",
    "for episode in spotify_episodes:\n",
    "    for item in episode['episodes']['items']:\n",
    "        name = item['name']\n",
    "        if not ('Harry Potter' in name or\n",
    "                'Spider-Man' in name or\n",
    "                'Ant-Man' in name or\n",
    "                'Mandalorian' in name) and name not in episodes:\n",
    "            episodes.add(name)\n",
    "print(episodes)"
   ]
  },
  {
   "cell_type": "markdown",
   "id": "21ddf00e",
   "metadata": {},
   "source": [
    "## viz 1:"
   ]
  },
  {
   "cell_type": "markdown",
   "id": "4a5b2f2d",
   "metadata": {},
   "source": [
    "### analyze release dates for podcast episodes + turn the data into a dataframe"
   ]
  },
  {
   "cell_type": "code",
   "execution_count": 76,
   "id": "aa61179b",
   "metadata": {},
   "outputs": [
    {
     "data": {
      "text/html": [
       "<div>\n",
       "<style scoped>\n",
       "    .dataframe tbody tr th:only-of-type {\n",
       "        vertical-align: middle;\n",
       "    }\n",
       "\n",
       "    .dataframe tbody tr th {\n",
       "        vertical-align: top;\n",
       "    }\n",
       "\n",
       "    .dataframe thead th {\n",
       "        text-align: right;\n",
       "    }\n",
       "</style>\n",
       "<table border=\"1\" class=\"dataframe\">\n",
       "  <thead>\n",
       "    <tr style=\"text-align: right;\">\n",
       "      <th></th>\n",
       "      <th>Date</th>\n",
       "      <th>Year</th>\n",
       "      <th>Month</th>\n",
       "      <th>Day</th>\n",
       "    </tr>\n",
       "  </thead>\n",
       "  <tbody>\n",
       "    <tr>\n",
       "      <th>0</th>\n",
       "      <td>2016-09-14</td>\n",
       "      <td>2016</td>\n",
       "      <td>9</td>\n",
       "      <td>14</td>\n",
       "    </tr>\n",
       "    <tr>\n",
       "      <th>1</th>\n",
       "      <td>2023-06-12</td>\n",
       "      <td>2023</td>\n",
       "      <td>6</td>\n",
       "      <td>12</td>\n",
       "    </tr>\n",
       "    <tr>\n",
       "      <th>2</th>\n",
       "      <td>2023-06-19</td>\n",
       "      <td>2023</td>\n",
       "      <td>6</td>\n",
       "      <td>19</td>\n",
       "    </tr>\n",
       "    <tr>\n",
       "      <th>3</th>\n",
       "      <td>2023-05-29</td>\n",
       "      <td>2023</td>\n",
       "      <td>5</td>\n",
       "      <td>29</td>\n",
       "    </tr>\n",
       "    <tr>\n",
       "      <th>4</th>\n",
       "      <td>2023-06-05</td>\n",
       "      <td>2023</td>\n",
       "      <td>6</td>\n",
       "      <td>5</td>\n",
       "    </tr>\n",
       "    <tr>\n",
       "      <th>...</th>\n",
       "      <td>...</td>\n",
       "      <td>...</td>\n",
       "      <td>...</td>\n",
       "      <td>...</td>\n",
       "    </tr>\n",
       "    <tr>\n",
       "      <th>120</th>\n",
       "      <td>2017-07-19</td>\n",
       "      <td>2017</td>\n",
       "      <td>7</td>\n",
       "      <td>19</td>\n",
       "    </tr>\n",
       "    <tr>\n",
       "      <th>121</th>\n",
       "      <td>2021-09-23</td>\n",
       "      <td>2021</td>\n",
       "      <td>9</td>\n",
       "      <td>23</td>\n",
       "    </tr>\n",
       "    <tr>\n",
       "      <th>122</th>\n",
       "      <td>2021-05-25</td>\n",
       "      <td>2021</td>\n",
       "      <td>5</td>\n",
       "      <td>25</td>\n",
       "    </tr>\n",
       "    <tr>\n",
       "      <th>123</th>\n",
       "      <td>2019-06-20</td>\n",
       "      <td>2019</td>\n",
       "      <td>6</td>\n",
       "      <td>20</td>\n",
       "    </tr>\n",
       "    <tr>\n",
       "      <th>124</th>\n",
       "      <td>2022-08-23</td>\n",
       "      <td>2022</td>\n",
       "      <td>8</td>\n",
       "      <td>23</td>\n",
       "    </tr>\n",
       "  </tbody>\n",
       "</table>\n",
       "<p>125 rows × 4 columns</p>\n",
       "</div>"
      ],
      "text/plain": [
       "           Date  Year  Month  Day\n",
       "0    2016-09-14  2016      9   14\n",
       "1    2023-06-12  2023      6   12\n",
       "2    2023-06-19  2023      6   19\n",
       "3    2023-05-29  2023      5   29\n",
       "4    2023-06-05  2023      6    5\n",
       "..          ...   ...    ...  ...\n",
       "120  2017-07-19  2017      7   19\n",
       "121  2021-09-23  2021      9   23\n",
       "122  2021-05-25  2021      5   25\n",
       "123  2019-06-20  2019      6   20\n",
       "124  2022-08-23  2022      8   23\n",
       "\n",
       "[125 rows x 4 columns]"
      ]
     },
     "execution_count": 76,
     "metadata": {},
     "output_type": "execute_result"
    }
   ],
   "source": [
    "dates = []\n",
    "years = []\n",
    "months = []\n",
    "days = []\n",
    "\n",
    "for episode in spotify_episodes:\n",
    "    for item in episode['episodes']['items']:\n",
    "        name = item['name']\n",
    "        date = item['release_date']\n",
    "        date_obj = datetime.datetime.strptime(date, \"%Y-%m-%d\")\n",
    "        date_str = date_obj.strftime(\"%Y-%m-%d\")\n",
    "        if not ('Harry Potter' in name or\n",
    "                'Spider-Man' in name or\n",
    "                'Ant-Man' in name or\n",
    "                'Mandalorian' in name) and date_str not in dates:\n",
    "            dates.append(date_str)\n",
    "            years.append(date_obj.year)\n",
    "            months.append(date_obj.month)\n",
    "            days.append(date_obj.day)\n",
    "\n",
    "data = {'Date': dates, 'Year': years, 'Month': months, 'Day': days}\n",
    "df = pd.DataFrame(data)\n",
    "\n",
    "df"
   ]
  },
  {
   "cell_type": "markdown",
   "id": "10f78a07",
   "metadata": {},
   "source": [
    "### group the dates by year and export it as a .csv file"
   ]
  },
  {
   "cell_type": "code",
   "execution_count": 85,
   "id": "d6693196",
   "metadata": {},
   "outputs": [
    {
     "data": {
      "text/plain": [
       "Year\n",
       "2013     1\n",
       "2016     5\n",
       "2017     7\n",
       "2018     4\n",
       "2019     4\n",
       "2020    11\n",
       "2021    16\n",
       "2022    27\n",
       "2023    50\n",
       "dtype: int64"
      ]
     },
     "execution_count": 85,
     "metadata": {},
     "output_type": "execute_result"
    }
   ],
   "source": [
    "df_year = df.groupby('Year').size()\n",
    "df_year"
   ]
  },
  {
   "cell_type": "code",
   "execution_count": 87,
   "id": "01695069",
   "metadata": {},
   "outputs": [],
   "source": [
    "df.to_csv('episode_dates.csv', index=False)\n",
    "df_year.to_csv('episode_dates_grouped.csv')"
   ]
  },
  {
   "cell_type": "markdown",
   "id": "2b1d0f3a",
   "metadata": {},
   "source": [
    "## viz 2:"
   ]
  },
  {
   "cell_type": "markdown",
   "id": "ace4d3ba",
   "metadata": {},
   "source": [
    "### create a csv with data of each show"
   ]
  },
  {
   "cell_type": "code",
   "execution_count": 91,
   "id": "ce735cea",
   "metadata": {},
   "outputs": [
    {
     "name": "stdout",
     "output_type": "stream",
     "text": [
      "CSV file created successfully.\n"
     ]
    }
   ],
   "source": [
    "import csv\n",
    "\n",
    "podcast = set()\n",
    "field_names = ['Podcast Name', 'Description', 'Total Episodes', 'Explicit', 'URL', 'Image']\n",
    "\n",
    "# Open the CSV file in write mode\n",
    "with open('podcasts.csv', 'w', newline='', encoding='utf-8') as csvfile:\n",
    "    writer = csv.writer(csvfile)\n",
    "    \n",
    "    writer.writerow(field_names)\n",
    "\n",
    "    for show in spotify_shows:\n",
    "        for total in show['shows']['items']:\n",
    "            name = total['name'].lower()\n",
    "            url = url = total['external_urls']['spotify'].split(' ')[0]\n",
    "            \n",
    "            if total['explicit'] == True:\n",
    "                explicit_status = \"Yes\"\n",
    "            else:\n",
    "                explicit_status = \"No\"\n",
    "            \n",
    "            if 'buffy' in name and name not in podcast:\n",
    "                \n",
    "                image_urls = []\n",
    "                for image in total['images']:\n",
    "                    image_url = image['url']\n",
    "                    image_urls.append(image_url)\n",
    "                if image_urls:\n",
    "                    first_image_url = image_urls[0]\n",
    "                else:\n",
    "                    first_image_url = \"\"\n",
    "                \n",
    "                writer.writerow([total['name'], total['description'], total['total_episodes'], explicit_status, url, first_image_url])\n",
    "                podcast.add(name)\n",
    "\n",
    "print(\"CSV file created successfully.\")\n"
   ]
  },
  {
   "cell_type": "code",
   "execution_count": null,
   "id": "83c85a1d",
   "metadata": {},
   "outputs": [],
   "source": []
  }
 ],
 "metadata": {
  "kernelspec": {
   "display_name": "Python 3 (ipykernel)",
   "language": "python",
   "name": "python3"
  },
  "language_info": {
   "codemirror_mode": {
    "name": "ipython",
    "version": 3
   },
   "file_extension": ".py",
   "mimetype": "text/x-python",
   "name": "python",
   "nbconvert_exporter": "python",
   "pygments_lexer": "ipython3",
   "version": "3.10.11"
  },
  "vscode": {
   "interpreter": {
    "hash": "1f1774605dbcbaefcb669af44d2b9d098d0a2039efb516c03653312a1ecf7578"
   }
  }
 },
 "nbformat": 4,
 "nbformat_minor": 5
}
